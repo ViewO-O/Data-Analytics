{
 "cells": [
  {
   "cell_type": "markdown",
   "metadata": {},
   "source": [
    "# Dictionary, List, Tuple in Python\n",
    "                                          "
   ]
  },
  {
   "cell_type": "markdown",
   "metadata": {},
   "source": [
    "## Dictionary\n",
    "\n",
    "\n",
    " * ประเภทข้อมูลที่เก็บข้อมูลในรูปแบบคู่ของ Key และ Value โดยที่ Key ใช้สำหรับเป็น Index ในการเข้าถึงข้อมูล มีค่าที่เป็น unique ไม่ควรซ้ำกัน และ เป็น Datatype ประเภท Strings, numbers และ Tuples ส่วน Value  เป็นค่าข้อมูลที่สอดคล้องกับ Key สามารถเป็น Datatype ประเภทใดก็ได้ โดยรูปแบบของตัวแปรของ Dictionary คือ\n",
    "   \n",
    "                 variable = {key : value}  และคั่นสมาชิกแต่ละตัวด้วยเครื่องหมายคอมมา (,)  \n",
    " \n",
    " \n",
    " \n",
    " \n",
    " ### การประกาศค่าลงไปใน Dictionary \n",
    "\n",
    "   * ในการใช้งาน Dictionary มักจะใช้เก็บข้อมูลที่สามารถใช้บางอย่างที่สามารถจำแนกข้อมูลออกจากกันได้ โดยกำหนดให้สิ่งนั้นเป็น Key ในการประกาศ Dictionary สมาชิกของมันจะอยู่ภายในวงเล็บปีกกา {}  \n",
    "           โดยมีรูปแบบการประกาศได้ 3 รูปแบบดังนี้\n",
    " \n",
    " \n",
    " 1. เป็นการประกาศ Dictionary ว่าง"
   ]
  },
  {
   "cell_type": "code",
   "execution_count": 1,
   "metadata": {},
   "outputs": [
    {
     "name": "stdout",
     "output_type": "stream",
     "text": [
      "{}\n"
     ]
    }
   ],
   "source": [
    "my_fruit = {}\n",
    "print(my_fruit)"
   ]
  },
  {
   "cell_type": "markdown",
   "metadata": {},
   "source": [
    " 2. เป็นการประกาศ Dictionary ที่มี keys เป็น integer"
   ]
  },
  {
   "cell_type": "code",
   "execution_count": 2,
   "metadata": {},
   "outputs": [
    {
     "name": "stdout",
     "output_type": "stream",
     "text": [
      "{1: 'orange', 2: 'cherry', 3: 'grape', 4: 'peach', 5: 'melon'}\n"
     ]
    }
   ],
   "source": [
    "my_fruit = {1:'orange',2:'cherry',3:'grape',4:'peach',5:'melon'}\n",
    "print(my_fruit)"
   ]
  },
  {
   "cell_type": "markdown",
   "metadata": {},
   "source": [
    "3. เป็นการประกาศ Dictionary ที่มี keys และ value เป็น Datatype ที่แตกต่างกัน"
   ]
  },
  {
   "cell_type": "code",
   "execution_count": 3,
   "metadata": {},
   "outputs": [
    {
     "name": "stdout",
     "output_type": "stream",
     "text": [
      "{'name': 'Somying', 'phone_no': '0815879999', 1: 'orange', 2: 'cherry', 3: 'grape', 4: 'peach', 5: 'melon'}\n"
     ]
    }
   ],
   "source": [
    "my_fruit_person = {'name': 'Somying', 'phone_no': '0815879999', 1:'orange',2:'cherry',3:'grape',4:'peach',5:'melon' }\n",
    "print(my_fruit_person)"
   ]
  },
  {
   "cell_type": "markdown",
   "metadata": {},
   "source": [
    "### การเข้าถึงข้อมูลภายใน Dictionary\n",
    "\n",
    "* เป็นการเข้าถึงข้อมูลเพื่ออ่านค่าที่ต้องการโดยผ่านทาง key เพื่อบอกตำแหน่งที่ต้องการเข้าถึงและครอบด้วยวงเล็บเหลี่ยม [       ] ผลลัพธ์จะได้ value ที่เชื่อมกับ key นั้นและหากเข้าถึง key ที่ไม่มีใน dictionary จะทำให้เกิด error\n",
    "        ตัวอย่างเช่น \n"
   ]
  },
  {
   "cell_type": "code",
   "execution_count": 4,
   "metadata": {},
   "outputs": [
    {
     "name": "stdout",
     "output_type": "stream",
     "text": [
      "my name is  Somying ,I like  orange\n"
     ]
    }
   ],
   "source": [
    "my_fruit_person = {'name': 'Somying', 'phone_no': '0815879999', 1:'orange',2:'cherry',3:'grape',4:'peach',5:'melon' }\n",
    "print(\"my name is \", my_fruit_person['name'], \",I like \", my_fruit_person[1])"
   ]
  },
  {
   "cell_type": "markdown",
   "metadata": {},
   "source": [
    "### การอัพเดตหรือเพิ่มข้อมูลใน Dictionary\n",
    "\n",
    "\n",
    "* ในการเพิ่มข้อมูลใน Dictionary ใน python จะต้องระบุค่า key และ value ที่ต้องการอัพเดตหรือเพิ่ม \n",
    "โดยการอัพเดตข้อมูลนั้นจะต้องมี key ตรงกับ key ที่มีอยู่เดิมใน dictionary จะทำให้ value ใหม่เข้าไปแทนที่ value ที่อยู่ใน key นั้นแต่ถ้าเป็นการเพิ่มข้อมูล key ใหม่สามารถเพิ่ม value ได้เลย\n",
    "\n",
    "* รูปแบบการอัพเดตและเพิ่มข้อมูล\n",
    "                   name_dict[key] = value      \n",
    "                  * name_dict คือชื่อของ dictionary\n",
    "  \n",
    "  \n",
    "  \n",
    "      ยกตัวอย่างการอัพเดตข้อมูล \n",
    "    "
   ]
  },
  {
   "cell_type": "code",
   "execution_count": 5,
   "metadata": {},
   "outputs": [
    {
     "name": "stdout",
     "output_type": "stream",
     "text": [
      "before update :  {1: 'orange', 2: 'cherry', 3: 'grape', 4: 'peach', 5: 'melon'}\n",
      "after update   :  {1: 'orange', 2: 'cherry', 3: 'grape', 4: 'longan', 5: 'melon'}\n"
     ]
    }
   ],
   "source": [
    "my_fruit = {1:'orange',2:'cherry',3:'grape',4:'peach',5:'melon'}\n",
    "print(\"before update : \" , my_fruit)\n",
    "my_fruit[4] = 'longan'                      # update here\n",
    "print(\"after update   : \", my_fruit)"
   ]
  },
  {
   "cell_type": "markdown",
   "metadata": {},
   "source": [
    "     ยกตัวอย่างการเพิ่มข้อมูล"
   ]
  },
  {
   "cell_type": "code",
   "execution_count": 6,
   "metadata": {},
   "outputs": [
    {
     "name": "stdout",
     "output_type": "stream",
     "text": [
      "before update :  {1: 'orange', 2: 'cherry', 3: 'grape', 4: 'peach', 5: 'melon'}\n",
      "after update   :  {1: 'orange', 2: 'cherry', 3: 'grape', 4: 'peach', 5: 'melon', 6: 'lychee'}\n"
     ]
    }
   ],
   "source": [
    "my_fruit = {1:'orange',2:'cherry',3:'grape',4:'peach',5:'melon'}\n",
    "print(\"before update : \" , my_fruit)\n",
    "my_fruit[6] = 'lychee'                      # Add here\n",
    "print(\"after update   : \", my_fruit)"
   ]
  },
  {
   "cell_type": "markdown",
   "metadata": {},
   "source": [
    "### การลบข้อมูลใน Dictionary\n",
    "\n",
    "* การลบข้อมูลใน Dictionary สามารถลบข้อมูลที่ต้องการได้โดยใช้คำสั่ง del โดยมีรูปแบบดังนี้\n",
    "                    del name_dict[key]           \n",
    "                    * name_dict คือชื่อของ dictionary\n",
    "               \n",
    "     ตัวอย่างเช่น"
   ]
  },
  {
   "cell_type": "code",
   "execution_count": 7,
   "metadata": {},
   "outputs": [
    {
     "name": "stdout",
     "output_type": "stream",
     "text": [
      "{1: 'orange', 2: 'cherry', 4: 'peach', 5: 'melon', 6: 'lychee'}\n"
     ]
    }
   ],
   "source": [
    "del my_fruit[3] \n",
    "print(my_fruit)"
   ]
  },
  {
   "cell_type": "markdown",
   "metadata": {},
   "source": [
    "* หากต้องการลบ key และ value ทั้งหมดใน dictionary จะต้องใช้ method clear() มีรูปแบบดังนี้\n",
    "                name_dict.clear() \n",
    "                * name_dict คือชื่อของ dictionary\n",
    "  ตัวอย่างเช่น"
   ]
  },
  {
   "cell_type": "code",
   "execution_count": 8,
   "metadata": {},
   "outputs": [
    {
     "name": "stdout",
     "output_type": "stream",
     "text": [
      "{}\n"
     ]
    }
   ],
   "source": [
    "my_fruit = {1:'orange',2:'cherry',3:'grape',4:'peach',5:'melon'}\n",
    "my_fruit.clear() # remove all entries in dict\n",
    "print(my_fruit)"
   ]
  },
  {
   "cell_type": "code",
   "execution_count": 9,
   "metadata": {},
   "outputs": [
    {
     "name": "stdout",
     "output_type": "stream",
     "text": [
      "{1: 'orange', 2: 'cherry', 4: 'peach', 5: 'melon'}\n"
     ]
    }
   ],
   "source": [
    "#ใช้คำสั่ง pop เพื่อ remove ข้อมูลใน dictionary\n",
    "my_fruit = {1:'orange',2:'cherry',3:'grape',4:'peach',5:'melon'}\n",
    "my_fruit.pop(3)\n",
    "print(my_fruit)"
   ]
  },
  {
   "cell_type": "markdown",
   "metadata": {},
   "source": [
    "* หากต้องการลบตัวแปร dictionary มีรูปแบบดังนี้\n",
    "                del name_dict             \n",
    "                * name_dict คือชื่อของ dictionary\n",
    "     ตัวอย่างเช่น"
   ]
  },
  {
   "cell_type": "code",
   "execution_count": 1,
   "metadata": {},
   "outputs": [
    {
     "ename": "NameError",
     "evalue": "name 'my_fruit' is not defined",
     "output_type": "error",
     "traceback": [
      "\u001b[1;31m---------------------------------------------------------------------------\u001b[0m",
      "\u001b[1;31mNameError\u001b[0m                                 Traceback (most recent call last)",
      "Cell \u001b[1;32mIn[1], line 3\u001b[0m\n\u001b[0;32m      1\u001b[0m my_fruit \u001b[38;5;241m=\u001b[39m {\u001b[38;5;241m1\u001b[39m:\u001b[38;5;124m'\u001b[39m\u001b[38;5;124morange\u001b[39m\u001b[38;5;124m'\u001b[39m,\u001b[38;5;241m2\u001b[39m:\u001b[38;5;124m'\u001b[39m\u001b[38;5;124mcherry\u001b[39m\u001b[38;5;124m'\u001b[39m,\u001b[38;5;241m3\u001b[39m:\u001b[38;5;124m'\u001b[39m\u001b[38;5;124mgrape\u001b[39m\u001b[38;5;124m'\u001b[39m,\u001b[38;5;241m4\u001b[39m:\u001b[38;5;124m'\u001b[39m\u001b[38;5;124mpeach\u001b[39m\u001b[38;5;124m'\u001b[39m,\u001b[38;5;241m5\u001b[39m:\u001b[38;5;124m'\u001b[39m\u001b[38;5;124mmelon\u001b[39m\u001b[38;5;124m'\u001b[39m}\n\u001b[0;32m      2\u001b[0m \u001b[38;5;28;01mdel\u001b[39;00m my_fruit \u001b[38;5;66;03m# remove all entries in dict\u001b[39;00m\n\u001b[1;32m----> 3\u001b[0m \u001b[38;5;28mprint\u001b[39m(my_fruit)\n",
      "\u001b[1;31mNameError\u001b[0m: name 'my_fruit' is not defined"
     ]
    }
   ],
   "source": [
    "my_fruit = {1:'orange',2:'cherry',3:'grape',4:'peach',5:'melon'}\n",
    "del my_fruit # remove all entries in dict\n",
    "print(my_fruit) # เมื่อ print my_fruit จะ error"
   ]
  },
  {
   "cell_type": "markdown",
   "metadata": {},
   "source": [
    "### การอ่านค่าใน Dictionary ด้วยคำสั่ง For loop\n",
    "\n",
    "\n",
    "* คำสั่ง For loop นั้นเป็นคำสั่งที่ยืดหยุ่นและสามารถใช้งานได้อย่างหลากหลาย ในการอ่านค่าใน Dictionary นั้นสามารถใช้ For loop เพื่อวนอ่านค่าทั้ง Key และ Values ใน Dictionary ได้\n",
    "\n",
    "    \n",
    "    \n",
    " 1. เป็นการวน loop อ่านค่า keys และ values โดยใช้ method items()  \n",
    " \n",
    " \n",
    " ยกตัวอย่างเช่น "
   ]
  },
  {
   "cell_type": "code",
   "execution_count": 11,
   "metadata": {},
   "outputs": [
    {
     "name": "stdout",
     "output_type": "stream",
     "text": [
      "1 orange\n",
      "2 cherry\n",
      "3 grape\n",
      "4 peach\n",
      "5 melon\n",
      "name somchai\n"
     ]
    }
   ],
   "source": [
    "my_fruit = {1:'orange',2:'cherry',3:'grape',4:'peach',5:'melon', \"name\":\"somchai\"}\n",
    "for i,j in my_fruit.items():\n",
    "    print(i,j)"
   ]
  },
  {
   "cell_type": "markdown",
   "metadata": {},
   "source": [
    "2. เป็นการวน loop อ่านค่า keys ทั้งหมดภายใน Dictionary โดยใช้ method keys() \n",
    "\n",
    "ยกตัวอย่างเช่น"
   ]
  },
  {
   "cell_type": "code",
   "execution_count": 12,
   "metadata": {},
   "outputs": [
    {
     "name": "stdout",
     "output_type": "stream",
     "text": [
      "Key: 1 2 3 4 5 "
     ]
    }
   ],
   "source": [
    "my_fruit = {1:'orange',2:'cherry',3:'grape',4:'peach',5:'melon'}\n",
    "# iterate through keys\n",
    "print('Key:', end = ' ')\n",
    "for k in my_fruit.keys():\n",
    "    print(k, end = ' ')"
   ]
  },
  {
   "cell_type": "markdown",
   "metadata": {},
   "source": [
    "3. เป็นการวน loop อ่านค่า values ทั้งหมดภายใน Dictionary โดยใช้ method values() \n",
    "\n",
    "ยกตัวอย่างเช่น"
   ]
  },
  {
   "cell_type": "code",
   "execution_count": 13,
   "metadata": {},
   "outputs": [
    {
     "name": "stdout",
     "output_type": "stream",
     "text": [
      "Value: orange cherry grape peach melon "
     ]
    }
   ],
   "source": [
    "my_fruit = {1:'orange',2:'cherry',3:'grape',4:'peach',5:'melon'}\n",
    "# iterate through values\n",
    "print('Value:', end = ' ')\n",
    "for v in my_fruit.values():\n",
    "    print(v, end = ' ')"
   ]
  },
  {
   "cell_type": "code",
   "execution_count": null,
   "metadata": {},
   "outputs": [],
   "source": []
  },
  {
   "cell_type": "markdown",
   "metadata": {},
   "source": [
    "### คุณสมบัติของ keys ใน Dictionary\n",
    "\n",
    "* ไม่อนุญาตให้เพิ่มข้อมูลมากกว่า 1 value ต่อ  1 key ซึ่งหมายความว่าไม่อนุญาตให้มี key ซ้ำกัน แต่ถ้ามี key ซ้ำกันระหว่างการ assignment ผลลัพธ์จะเป็นการ assignment ล่าสุด\n",
    "\n",
    "\n",
    "ยกตัวอย่างเช่น\n"
   ]
  },
  {
   "cell_type": "code",
   "execution_count": 14,
   "metadata": {},
   "outputs": [
    {
     "name": "stdout",
     "output_type": "stream",
     "text": [
      "dict['Name']:  Manni\n"
     ]
    }
   ],
   "source": [
    "dict = {'Name': 'Zara', 'Age': 7, 'Name': 'Manni'}  #duplicate keys\n",
    "print (\"dict['Name']: \", dict['Name'])"
   ]
  },
  {
   "cell_type": "markdown",
   "metadata": {},
   "source": [
    "* keys สามารถเป็น Datatype ได้เพียง 3 ประเภทคือ Strings, Numbers และ Tuples หากไม่อยู่ในทั้ง 3 ประเภทนี้จะเกิด error"
   ]
  },
  {
   "cell_type": "code",
   "execution_count": 5,
   "metadata": {},
   "outputs": [
    {
     "name": "stdout",
     "output_type": "stream",
     "text": [
      "dict['Name']:  Zara\n"
     ]
    }
   ],
   "source": [
    "#dict = {['Name']: 'Zara', 'Age': 7} #['Name'] is not Strings, numbers and tuples\n",
    "dict = {'Name': 'Zara', 'Age': 7}\n",
    "print(\"dict['Name']: \", dict['Name'])"
   ]
  },
  {
   "cell_type": "markdown",
   "metadata": {},
   "source": [
    "### Built-in Dictionary Functions \n",
    "\n",
    "\n",
    "1. len(dict) เป็นฟังก์ชั่นที่จะ return ค่ากลับเป็นจำนวนของวัตถุใน Dictionary"
   ]
  },
  {
   "cell_type": "code",
   "execution_count": 16,
   "metadata": {},
   "outputs": [
    {
     "name": "stdout",
     "output_type": "stream",
     "text": [
      "Length is 4\n"
     ]
    }
   ],
   "source": [
    "fruit = {1 : 'Apple' , 2 : 'Orange' , 3 : 'Grape' , 4 : 'Banana'}\n",
    "print('Length is' , len(fruit))"
   ]
  },
  {
   "cell_type": "markdown",
   "metadata": {},
   "source": [
    "  2. sorted (dict[,reverse]) เป็นฟังก์ชั่นที่จะ return ค่ากลับเป็น value ใน Dictionary ที่ถูกเรียงลำดับจากน้อยไปมาก โดยถ้า set ค่า reverse เป็น True จะทำให้เรียงแบบย้อนกลับจากมากไปน้อย"
   ]
  },
  {
   "cell_type": "code",
   "execution_count": 17,
   "metadata": {},
   "outputs": [
    {
     "name": "stdout",
     "output_type": "stream",
     "text": [
      "Equivalent String : {'Name': 'Zara', 'Age': 7}\n",
      "<class 'str'>\n"
     ]
    }
   ],
   "source": [
    "dict = {'Name': 'Zara', 'Age': 7};\n",
    "print (\"Equivalent String : %s\" % str (dict))\n",
    "print(type(str(dict)))"
   ]
  },
  {
   "cell_type": "markdown",
   "metadata": {},
   "source": [
    "### Dictionary Methods\n",
    "\n",
    "* methods ช่วยให้ทำงานได้ง่ายขึ้น โดยส่วนมากจะใช้ methods เพื่ออัพเดตและรับข้อมูลภายใน Dictionary \n",
    "\n",
    "\n",
    "1. clear() เป็นเมธอดที่ใช้ในการลบข้อมูลภายใน Dictionary ทั้งหมด"
   ]
  },
  {
   "cell_type": "code",
   "execution_count": 18,
   "metadata": {},
   "outputs": [
    {
     "name": "stdout",
     "output_type": "stream",
     "text": [
      "{}\n"
     ]
    }
   ],
   "source": [
    "dict = {'Name': 'Zara', 'Age': 7, 'Class': 'First'}\n",
    "dict.clear()\n",
    "print(dict)"
   ]
  },
  {
   "cell_type": "markdown",
   "metadata": {},
   "source": [
    "  2. copy() เป็นเมธอดที่ใช้ในการคัดลอกข้อมูลภายใน Dictionary  "
   ]
  },
  {
   "cell_type": "code",
   "execution_count": 19,
   "metadata": {},
   "outputs": [
    {
     "name": "stdout",
     "output_type": "stream",
     "text": [
      "{'Name': 'Zara', 'Age': 7, 'Class': 'First'}\n",
      "{'Name': 'Zara', 'Age': 7, 'Class': 'First'}\n"
     ]
    }
   ],
   "source": [
    "dict = {'Name': 'Zara', 'Age': 7, 'Class': 'First'}\n",
    "print(dict)\n",
    "\n",
    "new_dict = dict.copy()\n",
    "print(new_dict)"
   ]
  },
  {
   "cell_type": "markdown",
   "metadata": {},
   "source": [
    "  3.  get(key[, default])  เป็นเมธอดเพื่อเข้าถึงข้อมูล(value) และส่งค่าข้อมูลใน Dictionary จาก Key ที่กำหนด ถ้าหากไม่มี Key อยู่และไม่ได้กำหนด default จะส่งค่ากลับเป็น ‘None’ "
   ]
  },
  {
   "cell_type": "code",
   "execution_count": 20,
   "metadata": {},
   "outputs": [
    {
     "name": "stdout",
     "output_type": "stream",
     "text": [
      "Value : 7\n",
      "Value : Never\n"
     ]
    }
   ],
   "source": [
    "dict = {'Name': 'Zabra', 'Age': 7}\n",
    "print (\"Value : %s\" %  dict.get('Age'))\n",
    "print (\"Value : %s\" %  dict.get('Education', \"Never\"))"
   ]
  },
  {
   "cell_type": "markdown",
   "metadata": {},
   "source": [
    "* กรณีที่ไม่มี key ใน dictionary และไม่ได้กำหนด default จะส่งค่ากลับเป็น 'None'"
   ]
  },
  {
   "cell_type": "code",
   "execution_count": 21,
   "metadata": {},
   "outputs": [
    {
     "name": "stdout",
     "output_type": "stream",
     "text": [
      "None\n"
     ]
    }
   ],
   "source": [
    "dict = {'Name': 'Zabra', 'Age': 7}\n",
    "print (dict.get('Education'))"
   ]
  },
  {
   "cell_type": "markdown",
   "metadata": {},
   "source": [
    "   4. items() เป็นเมธอดที่สามารถส่งข้อมูล (key, value) ทั้งหมดใน Dictionary กลับมาเป็น List "
   ]
  },
  {
   "cell_type": "code",
   "execution_count": 22,
   "metadata": {},
   "outputs": [
    {
     "name": "stdout",
     "output_type": "stream",
     "text": [
      "dict_items([(1, 'Germany'), (2, 'Ukraine'), (3, 'Thailand'), (4, 'Netherlands')])\n"
     ]
    }
   ],
   "source": [
    "countries = {1: 'Germany', 2: 'Ukraine',3: 'Thailand', 4: 'Netherlands'}\n",
    "\n",
    "print(countries.items())\n"
   ]
  },
  {
   "cell_type": "code",
   "execution_count": 23,
   "metadata": {},
   "outputs": [
    {
     "data": {
      "text/plain": [
       "dict_items"
      ]
     },
     "execution_count": 23,
     "metadata": {},
     "output_type": "execute_result"
    }
   ],
   "source": [
    "display = countries.items()\n",
    "type(display)"
   ]
  },
  {
   "cell_type": "markdown",
   "metadata": {},
   "source": [
    "   5. keys() เป็นเมธอดที่จะส่ง keys ทั้งหมดใน Dictionary กลับมาเป็น List"
   ]
  },
  {
   "cell_type": "code",
   "execution_count": 24,
   "metadata": {},
   "outputs": [
    {
     "name": "stdout",
     "output_type": "stream",
     "text": [
      "dict_keys([1, 2, 3, 4])\n"
     ]
    }
   ],
   "source": [
    "countries = {1: 'Germany', 2: 'Ukraine',3: 'Thailand', 4: 'Netherlands'}\n",
    "\n",
    "print(countries.keys())"
   ]
  },
  {
   "cell_type": "markdown",
   "metadata": {},
   "source": [
    "  6. values() เป็นเมธอดที่สามารถส่ง values ทั้งหมดใน Dictionary กลับมาเป็น List"
   ]
  },
  {
   "cell_type": "code",
   "execution_count": 25,
   "metadata": {},
   "outputs": [
    {
     "name": "stdout",
     "output_type": "stream",
     "text": [
      "dict_values(['Germany', 'Ukraine', 'Thailand', 'Netherlands'])\n"
     ]
    }
   ],
   "source": [
    "countries = {1: 'Germany', 2: 'Ukraine',3: 'Thailand', 4: 'Netherlands'}\n",
    "\n",
    "print(countries.values())"
   ]
  },
  {
   "cell_type": "markdown",
   "metadata": {},
   "source": [
    "  7. fromkeys(seq[,value]) เป็นเมธอดเพื่อสร้าง variable ของ Dictionary โดยดึงค่าจาก List ที่กำหนดไว้แล้วมาเป็นค่า key ของ Dictionary ใหม่ หากไม่ได้กำหนดค่า value จะเป็น None แต่หากกำหนดค่าให้กับ value ทุก key จะมีค่าเท่ากับ value ที่กำหนดไว้\n",
    "  \n",
    " * กำหนดค่า value"
   ]
  },
  {
   "cell_type": "code",
   "execution_count": 26,
   "metadata": {},
   "outputs": [
    {
     "name": "stdout",
     "output_type": "stream",
     "text": [
      "{'Germany': 10, 'Thailand': 10, 'Laos': 10, 'China': 10}\n"
     ]
    }
   ],
   "source": [
    "seq = ('Germany','Thailand','Laos','China')\n",
    "country = dict.fromkeys(seq,10)\n",
    "print(country)"
   ]
  },
  {
   "cell_type": "markdown",
   "metadata": {},
   "source": [
    "   * ไม่ได้กำหนดค่า value"
   ]
  },
  {
   "cell_type": "code",
   "execution_count": 27,
   "metadata": {},
   "outputs": [
    {
     "name": "stdout",
     "output_type": "stream",
     "text": [
      "{'Germany': None, 'Thailand': None, 'Laos': None, 'China': None}\n"
     ]
    }
   ],
   "source": [
    "seq = ('Germany','Thailand','Laos','China')\n",
    "country = dict.fromkeys(seq)\n",
    "print(country)"
   ]
  },
  {
   "cell_type": "markdown",
   "metadata": {},
   "source": [
    "   8. pop(key[, default]) เป็นเมธอดใช้ในการดึงค่า value ของ Dictionary และลบออก และจำเป็นต้องกำหนดค่า key ที่ต้องการ หากไม่ได้ระบุจะทำให้ error"
   ]
  },
  {
   "cell_type": "code",
   "execution_count": 28,
   "metadata": {},
   "outputs": [
    {
     "name": "stdout",
     "output_type": "stream",
     "text": [
      "Thailand\n",
      "{1: 'Germany', 2: 'Ukraine', 4: 'Netherlands'}\n"
     ]
    }
   ],
   "source": [
    "countries = {1: 'Germany', 2: 'Ukraine',3: 'Thailand', 4: 'Netherlands'}\n",
    "\n",
    "print(countries.pop(3))\n",
    "print(countries)\n"
   ]
  },
  {
   "cell_type": "markdown",
   "metadata": {},
   "source": [
    "   9. popitem() เป็นเมธอดเพื่อดึงค่า key และ value ตัวสุดท้ายของ Dictionary และส่งกลับในรูปของ Tuple "
   ]
  },
  {
   "cell_type": "code",
   "execution_count": 29,
   "metadata": {},
   "outputs": [
    {
     "name": "stdout",
     "output_type": "stream",
     "text": [
      "(4, 'Netherlands')\n"
     ]
    }
   ],
   "source": [
    "countries = {1: 'Germany', 2: 'Ukraine',3: 'Thailand', 4: 'Netherlands'}\n",
    "\n",
    "print(countries.popitem())"
   ]
  },
  {
   "cell_type": "markdown",
   "metadata": {},
   "source": [
    "   10. update([other]) เป็นเมธอดเพื่ออัพเดตค่า value ที่ตรงกับ key ที่จะเปลี่ยน "
   ]
  },
  {
   "cell_type": "code",
   "execution_count": 30,
   "metadata": {},
   "outputs": [
    {
     "name": "stdout",
     "output_type": "stream",
     "text": [
      "{1: 'Germany', 2: 'Ukraine', 3: 'Thailand', 4: 'China'}\n"
     ]
    }
   ],
   "source": [
    "countries = {1: 'Germany', 2: 'Ukraine',3: 'Thailand', 4: 'Netherlands'}\n",
    "\n",
    "countries.update({4:'China'})\n",
    "print(countries)"
   ]
  },
  {
   "cell_type": "markdown",
   "metadata": {},
   "source": [
    " * กรณีที่ไม่มี key นั้นอยู่ใน Dictionary จะเป็นการเพิ่มข้อมูลใหม่"
   ]
  },
  {
   "cell_type": "code",
   "execution_count": 31,
   "metadata": {},
   "outputs": [
    {
     "name": "stdout",
     "output_type": "stream",
     "text": [
      "{1: 'Germany', 2: 'Ukraine', 3: 'Thailand', 4: 'Netherlands', 5: 'China'}\n"
     ]
    }
   ],
   "source": [
    "countries = {1: 'Germany', 2: 'Ukraine',3: 'Thailand', 4: 'Netherlands'}\n",
    "\n",
    "countries.update({5:'China'})\n",
    "print(countries)"
   ]
  },
  {
   "cell_type": "markdown",
   "metadata": {},
   "source": [
    "# list"
   ]
  },
  {
   "cell_type": "code",
   "execution_count": 32,
   "metadata": {},
   "outputs": [
    {
     "name": "stdout",
     "output_type": "stream",
     "text": [
      "a\n",
      "5\n"
     ]
    }
   ],
   "source": [
    "nestedList = [\"Happy\", [2, 0, 1, 5]] \n",
    "print (nestedList[0][1])\n",
    "#เรียก List ตัวแรก (ตำแหน่งที่ 0) และเรียกตัวที่สอง (ตำแหน่งที่ 1) ของ List ตัวแรก\n",
    "print (nestedList[1][3])"
   ]
  },
  {
   "cell_type": "code",
   "execution_count": 33,
   "metadata": {},
   "outputs": [
    {
     "name": "stdout",
     "output_type": "stream",
     "text": [
      "e\n"
     ]
    }
   ],
   "source": [
    "my_list = ['p', 'r', 'o', 'b', 'e']\n",
    "print(my_list[-1])"
   ]
  },
  {
   "cell_type": "code",
   "execution_count": 34,
   "metadata": {},
   "outputs": [
    {
     "name": "stdout",
     "output_type": "stream",
     "text": [
      "['o', 'g', 'r']\n"
     ]
    }
   ],
   "source": [
    "my_list = ['p', 'r', 'o', 'g', 'r', 'a', 'm', 'i', 'z']\n",
    "print (my_list[2:5])\n",
    "#เรียก list ตั้งแต่ตำแหน่งที่ 2 จนถึง 5 "
   ]
  },
  {
   "cell_type": "code",
   "execution_count": 35,
   "metadata": {},
   "outputs": [
    {
     "name": "stdout",
     "output_type": "stream",
     "text": [
      "['p', 'r', 'o', 'g']\n"
     ]
    }
   ],
   "source": [
    "print (my_list[:-5])\n",
    "#ตั้งแต่ตำแหน่งที่ 0 (จากด้านหน้า) จนถึงตำแหน่งที่ -5 (นับจากข้างหลัง)"
   ]
  },
  {
   "cell_type": "code",
   "execution_count": 36,
   "metadata": {},
   "outputs": [
    {
     "name": "stdout",
     "output_type": "stream",
     "text": [
      "['a', 'm', 'i', 'z']\n"
     ]
    }
   ],
   "source": [
    "print (my_list[5:])\n",
    "#ตั้งแต่ตำแหน่งที่ 5 จนถึงตำแหน่งสุดท้าย"
   ]
  },
  {
   "cell_type": "code",
   "execution_count": 37,
   "metadata": {},
   "outputs": [
    {
     "name": "stdout",
     "output_type": "stream",
     "text": [
      "['p', 'r', 'o', 'g', 'r', 'a', 'm', 'i', 'z']\n"
     ]
    }
   ],
   "source": [
    "print(my_list[:])\n",
    "#ทุกตัว"
   ]
  },
  {
   "cell_type": "code",
   "execution_count": 38,
   "metadata": {},
   "outputs": [
    {
     "name": "stdout",
     "output_type": "stream",
     "text": [
      "New value available at index 2 :  2001\n"
     ]
    }
   ],
   "source": [
    "list = ['physics', 'chemistry', 1997, 2000];\n",
    "# กำนดค่า list ในตำแหน่งที่เราต้องการ update ใหม่\n",
    "list[2] = 2001\n",
    "print (\"New value available at index 2 : \", list[2])\n",
    "#print (list)"
   ]
  },
  {
   "cell_type": "code",
   "execution_count": 39,
   "metadata": {},
   "outputs": [
    {
     "name": "stdout",
     "output_type": "stream",
     "text": [
      "[2, 3, 5, 7]\n"
     ]
    }
   ],
   "source": [
    "odd = [2, 4, 6, 8]\n",
    "#เปลี่ยนค่าในตำแหน่งที่ 1 ถึง 3\n",
    "odd[1:4] = [3, 5, 7]\n",
    "print (odd)"
   ]
  },
  {
   "cell_type": "code",
   "execution_count": 40,
   "metadata": {},
   "outputs": [
    {
     "name": "stdout",
     "output_type": "stream",
     "text": [
      "[3, 0, 4]\n"
     ]
    }
   ],
   "source": [
    "odd = [0, 4]\n",
    "odd.insert(0, 3)\n",
    "print (odd)\n",
    "#แทรกเลข 3 ลงไปข้างตำแหน่งที่ 0"
   ]
  },
  {
   "cell_type": "code",
   "execution_count": 41,
   "metadata": {},
   "outputs": [
    {
     "name": "stdout",
     "output_type": "stream",
     "text": [
      "[3, 0, 4, 7, 9, 11, 13]\n"
     ]
    }
   ],
   "source": [
    "#ใช้ operatoe \"+\" ในการรวมเอา 2 list รวมเข้าด้วยกัน \n",
    "print (odd + [7, 9, 11, 13])"
   ]
  },
  {
   "cell_type": "markdown",
   "metadata": {},
   "source": [
    "# tuple"
   ]
  },
  {
   "cell_type": "code",
   "execution_count": 8,
   "metadata": {},
   "outputs": [
    {
     "ename": "TypeError",
     "evalue": "'tuple' object does not support item assignment",
     "output_type": "error",
     "traceback": [
      "\u001b[1;31m---------------------------------------------------------------------------\u001b[0m",
      "\u001b[1;31mTypeError\u001b[0m                                 Traceback (most recent call last)",
      "Cell \u001b[1;32mIn[8], line 2\u001b[0m\n\u001b[0;32m      1\u001b[0m my_tuple \u001b[38;5;241m=\u001b[39m (\u001b[38;5;241m4\u001b[39m, \u001b[38;5;241m2\u001b[39m, \u001b[38;5;241m3\u001b[39m, [\u001b[38;5;241m6\u001b[39m, \u001b[38;5;241m5\u001b[39m])\n\u001b[1;32m----> 2\u001b[0m my_tuple[\u001b[38;5;241m1\u001b[39m] \u001b[38;5;241m=\u001b[39m \u001b[38;5;241m9\u001b[39m\n",
      "\u001b[1;31mTypeError\u001b[0m: 'tuple' object does not support item assignment"
     ]
    }
   ],
   "source": [
    "my_tuple = (4, 2, 3, [6, 5])\n",
    "my_tuple[1] = 9 #จะ error เนื่องจากไม่สามารถเปลี่ยนแปลงค่าใน tuple ได้"
   ]
  },
  {
   "cell_type": "code",
   "execution_count": 9,
   "metadata": {},
   "outputs": [
    {
     "data": {
      "text/plain": [
       "(4, 2, 3, 5)"
      ]
     },
     "execution_count": 9,
     "metadata": {},
     "output_type": "execute_result"
    }
   ],
   "source": [
    "#เพิ่มสมาชิกใน tuple เนื่องจาก tuple เป็น immutable ไม่สามารถเปลี่ยนแปลง tuple ได้โดยตรง\n",
    "#จึงต้องใช้การ merge ด้วย + operator เป็นการสร้าง tuple ใหม่\n",
    "my_tuple = (4, 2, 3)  \n",
    "new_my_tuple = my_tuple + (5,)\n",
    "new_my_tuple"
   ]
  },
  {
   "cell_type": "code",
   "execution_count": 12,
   "metadata": {},
   "outputs": [
    {
     "data": {
      "text/plain": [
       "(1, 2, 7)"
      ]
     },
     "execution_count": 12,
     "metadata": {},
     "output_type": "execute_result"
    }
   ],
   "source": [
    "my_tuple = (1, 2, 3)  \n",
    "my_list = list(my_tuple)\n",
    "my_list[2] = 7\n",
    "my_tuple = tuple(my_list)\n",
    "my_tuple"
   ]
  },
  {
   "cell_type": "code",
   "execution_count": 45,
   "metadata": {},
   "outputs": [
    {
     "data": {
      "text/plain": [
       "(4, 2, 8, 3)"
      ]
     },
     "execution_count": 45,
     "metadata": {},
     "output_type": "execute_result"
    }
   ],
   "source": [
    "#เพิ่ม element ใหม่ คือ 8 แทรกระหว่าง 2 และ 3 ใน (4,2,3)  --- วิธีที่ 1\n",
    "my_tuple = (4, 2, 3) \n",
    "my_new_tuple = my_tuple[:2]+(8,)+my_tuple[2:]\n",
    "my_new_tuple"
   ]
  },
  {
   "cell_type": "code",
   "execution_count": 7,
   "metadata": {},
   "outputs": [
    {
     "name": "stdout",
     "output_type": "stream",
     "text": [
      "[4, 2, 3]\n",
      "[4, 2, 8, 3]\n",
      "(4, 2, 8, 3)\n"
     ]
    }
   ],
   "source": [
    "##เพิ่ม element ใหม่ คือ 8 แทรกระหว่าง 2 และ 3 ใน (4,2,3)  --- วิธีที่ 2\n",
    "my_tuple = (4, 2, 3) \n",
    "my_list = list(my_tuple)\n",
    "print(my_list)\n",
    "my_list.insert(2,8)\n",
    "print(my_list)\n",
    "my_tuple = tuple(my_list)\n",
    "print(my_tuple)"
   ]
  },
  {
   "cell_type": "markdown",
   "metadata": {},
   "source": [
    "# Slicing Lists"
   ]
  },
  {
   "cell_type": "code",
   "execution_count": 47,
   "metadata": {},
   "outputs": [],
   "source": [
    "grades = [\"A\", \"B\", \"C\", \"D\", \"F\"]"
   ]
  },
  {
   "cell_type": "code",
   "execution_count": 48,
   "metadata": {},
   "outputs": [
    {
     "name": "stdout",
     "output_type": "stream",
     "text": [
      "F\n"
     ]
    }
   ],
   "source": [
    "print(grades[-1])"
   ]
  },
  {
   "cell_type": "code",
   "execution_count": 49,
   "metadata": {},
   "outputs": [
    {
     "name": "stdout",
     "output_type": "stream",
     "text": [
      "['A', 'B', 'C', 'D']\n"
     ]
    }
   ],
   "source": [
    "print(grades[:-1])\n"
   ]
  },
  {
   "cell_type": "code",
   "execution_count": 50,
   "metadata": {},
   "outputs": [
    {
     "name": "stdout",
     "output_type": "stream",
     "text": [
      "[]\n"
     ]
    }
   ],
   "source": [
    "print(grades[:0])"
   ]
  },
  {
   "cell_type": "code",
   "execution_count": 51,
   "metadata": {},
   "outputs": [
    {
     "name": "stdout",
     "output_type": "stream",
     "text": [
      "['A', 'D']\n"
     ]
    }
   ],
   "source": [
    "print(grades[0:5:3])"
   ]
  },
  {
   "cell_type": "code",
   "execution_count": 52,
   "metadata": {},
   "outputs": [
    {
     "name": "stdout",
     "output_type": "stream",
     "text": [
      "['A', 'C', 'F']\n"
     ]
    }
   ],
   "source": [
    "print(grades[-5::2])\n"
   ]
  },
  {
   "cell_type": "code",
   "execution_count": 53,
   "metadata": {},
   "outputs": [
    {
     "name": "stdout",
     "output_type": "stream",
     "text": [
      "['F', 'D', 'C', 'B', 'A']\n"
     ]
    }
   ],
   "source": [
    "print(grades[::-1])\n"
   ]
  },
  {
   "cell_type": "markdown",
   "metadata": {},
   "source": [
    "เขียนโค้ดเพื่อสร้าง dictionary โดยมี key ที่เป็น name ชื่อ Somchai และ phone คือ 081-508-1234 พร้อมทั้งแสดงผลข้อมูลของ dictionary ที่สร้าง "
   ]
  },
  {
   "cell_type": "code",
   "execution_count": 54,
   "metadata": {},
   "outputs": [
    {
     "name": "stdout",
     "output_type": "stream",
     "text": [
      "{'name': 'Somchai', 'phone': '081-508-1234'}\n"
     ]
    }
   ],
   "source": [
    "name_dict = {'name' : 'Somchai','phone': '081-508-1234'}\n",
    "print(name_dict)"
   ]
  },
  {
   "cell_type": "markdown",
   "metadata": {},
   "source": [
    "ต้องการเปลี่ยนเบอร์โทรศัพท์ของสมชายเป็น 086-378-9595 แสดงผลข้อมูลของ dictionary ที่แก้ไข"
   ]
  },
  {
   "cell_type": "code",
   "execution_count": 55,
   "metadata": {},
   "outputs": [
    {
     "name": "stdout",
     "output_type": "stream",
     "text": [
      "{'name': 'Somchai', 'phone': '086-378-9595'}\n"
     ]
    }
   ],
   "source": [
    "name_dict['phone'] = '086-378-9595'\n",
    "print(name_dict)"
   ]
  },
  {
   "cell_type": "markdown",
   "metadata": {},
   "source": [
    "สร้าง list เก็บข้อมูลชื่อวิชาดังนี้ Data Structure, Database, Calculus, Linear Algebra, Discrete, Statistics, Thai Writing ให้แสดงผล list ที่สร้าง "
   ]
  },
  {
   "cell_type": "code",
   "execution_count": 56,
   "metadata": {},
   "outputs": [
    {
     "name": "stdout",
     "output_type": "stream",
     "text": [
      "['Data Structure', 'Database', 'Calculus', 'Linear Algebra', 'Discrete', 'Statistics', 'Thai Writing']\n"
     ]
    }
   ],
   "source": [
    "subject = ['Data Structure', 'Database', 'Calculus', 'Linear Algebra', 'Discrete', 'Statistics', 'Thai Writing']\n",
    "print(subject)"
   ]
  }
 ],
 "metadata": {
  "kernelspec": {
   "display_name": "Python 3 (ipykernel)",
   "language": "python",
   "name": "python3"
  },
  "language_info": {
   "codemirror_mode": {
    "name": "ipython",
    "version": 3
   },
   "file_extension": ".py",
   "mimetype": "text/x-python",
   "name": "python",
   "nbconvert_exporter": "python",
   "pygments_lexer": "ipython3",
   "version": "3.12.4"
  }
 },
 "nbformat": 4,
 "nbformat_minor": 4
}
