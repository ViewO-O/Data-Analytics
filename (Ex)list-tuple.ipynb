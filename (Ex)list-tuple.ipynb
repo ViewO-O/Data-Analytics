{
 "cells": [
  {
   "cell_type": "markdown",
   "id": "922dd82d",
   "metadata": {},
   "source": [
    "# 660710616 วรรณวิไล เกิดศิริ"
   ]
  },
  {
   "cell_type": "markdown",
   "id": "2c1b49f2",
   "metadata": {},
   "source": [
    "ในการทำแบบฝึกหัดให้เพิ่ม cell ด้านล่างของโจทย์เพื่อเขียน code"
   ]
  },
  {
   "cell_type": "markdown",
   "id": "9ff829b2",
   "metadata": {},
   "source": [
    "1.สร้าง list เพื่อเก็บชื่อวิชา\n",
    "\"Database\", \"Data Mining\", \"Machine Learning\", \"Database\", \"Calculus\", \"Linear Algebra\" \n",
    "และพิมพ์ออกมา"
   ]
  },
  {
   "cell_type": "code",
   "execution_count": 12,
   "id": "64f8f12d-d4c4-4355-af8e-3f8427846a17",
   "metadata": {},
   "outputs": [
    {
     "name": "stdout",
     "output_type": "stream",
     "text": [
      "['Database', 'Data Mining', 'Machine Learning', 'Database', 'Calculus', 'Linear Algebra']\n"
     ]
    }
   ],
   "source": [
    "subject =[\"Database\", \"Data Mining\", \"Machine Learning\", \"Database\", \"Calculus\", \"Linear Algebra\"]\n",
    "print(subject)"
   ]
  },
  {
   "cell_type": "markdown",
   "id": "079c4d15",
   "metadata": {},
   "source": [
    "2.พิมพ์ขนาดของ List สร้าง"
   ]
  },
  {
   "cell_type": "code",
   "execution_count": 14,
   "id": "10f03171-2f4d-42a5-b2d4-a6f59308b71a",
   "metadata": {},
   "outputs": [
    {
     "name": "stdout",
     "output_type": "stream",
     "text": [
      "6\n"
     ]
    }
   ],
   "source": [
    "print(len(subject))"
   ]
  },
  {
   "cell_type": "markdown",
   "id": "0c9e4bb9",
   "metadata": {},
   "source": [
    "3.เพิ่มข้อมูล \"Deep Leaerning\" ต่อจาก index(ตำแหน่ง) สุดท้ายเก็บไว้ใน List ที่สร้าง"
   ]
  },
  {
   "cell_type": "code",
   "execution_count": 16,
   "id": "c92604f9-568a-4ae5-8100-2c1b1f27dc3d",
   "metadata": {},
   "outputs": [
    {
     "name": "stdout",
     "output_type": "stream",
     "text": [
      "['Database', 'Data Mining', 'Machine Learning', 'Database', 'Calculus', 'Linear Algebra', 'Deep Leaerning']\n"
     ]
    }
   ],
   "source": [
    "subject.append(\"Deep Leaerning\")\n",
    "print(subject)"
   ]
  },
  {
   "cell_type": "markdown",
   "id": "3c512f72",
   "metadata": {},
   "source": [
    "4.แสดงข้อมูล Machine Learning และ Database ใน list "
   ]
  },
  {
   "cell_type": "code",
   "execution_count": 18,
   "id": "19befffb-26a2-4935-a14a-bc7541a16dba",
   "metadata": {},
   "outputs": [
    {
     "name": "stdout",
     "output_type": "stream",
     "text": [
      "['Database', 'Data Mining']\n"
     ]
    }
   ],
   "source": [
    "print(subject[0:2])  "
   ]
  },
  {
   "cell_type": "markdown",
   "id": "9e15e6ed",
   "metadata": {},
   "source": [
    "5. สร้าง tuple จากรายชื่อผลไม้\n",
    "\"Orange\", \"Apple\", \"Grape\", \"Melon\""
   ]
  },
  {
   "cell_type": "code",
   "execution_count": 20,
   "id": "5866bbf7-6592-4076-bbf3-40ba996c8e14",
   "metadata": {},
   "outputs": [
    {
     "name": "stdout",
     "output_type": "stream",
     "text": [
      "('Orange', 'Apple', 'Grape', 'Melon')\n"
     ]
    }
   ],
   "source": [
    "my_tuple=( \"Orange\", \"Apple\", \"Grape\", \"Melon\")\n",
    "print(my_tuple)"
   ]
  },
  {
   "cell_type": "markdown",
   "id": "6d9fb978",
   "metadata": {},
   "source": [
    "6. เพิ่ม Cherry  เข้าไปใน tuple ที่สร้าง"
   ]
  },
  {
   "cell_type": "code",
   "execution_count": 22,
   "id": "df0a2f07-5c8b-4fc1-a1f2-7d25d8583736",
   "metadata": {},
   "outputs": [
    {
     "data": {
      "text/plain": [
       "('Orange', 'Apple', 'Grape', 'Melon', 'Cherry')"
      ]
     },
     "execution_count": 22,
     "metadata": {},
     "output_type": "execute_result"
    }
   ],
   "source": [
    "new_my_tuple = my_tuple + (\"Cherry\",)\n",
    "new_my_tuple"
   ]
  },
  {
   "cell_type": "markdown",
   "id": "5a2b5fd8",
   "metadata": {},
   "source": [
    "7. สร้าง Dictionaries จากข้อมูลด้านล่างด้วยรูปแบบ key,value กำหนดให้\n",
    "name : Loid,\n",
    "family name : Forger,\n",
    "year : 1964"
   ]
  },
  {
   "cell_type": "code",
   "execution_count": 28,
   "id": "d2618814-fd5b-4bfe-b0fc-f213729a93e4",
   "metadata": {},
   "outputs": [],
   "source": [
    "dict={\"name\" :\"Loid\", \"family name\" : \"Forger\", \"year\" : \"1964\"}\n"
   ]
  },
  {
   "cell_type": "markdown",
   "id": "bff3f6a3",
   "metadata": {},
   "source": [
    "8.พิมพ์ค่า key และ value ทั้งหมดใน Dictionaries ที่สร้าง"
   ]
  },
  {
   "cell_type": "code",
   "execution_count": 34,
   "id": "e76cb3e1-3e68-483a-a8e7-ad31255bec96",
   "metadata": {},
   "outputs": [
    {
     "name": "stdout",
     "output_type": "stream",
     "text": [
      "name Loid\n",
      "family name Forger\n",
      "year 1964\n"
     ]
    }
   ],
   "source": [
    "for i,j in dict.items():\n",
    "    print(i,j)"
   ]
  },
  {
   "cell_type": "code",
   "execution_count": 30,
   "id": "e4715419-5a4b-4d46-9a56-c77b27f86677",
   "metadata": {},
   "outputs": [
    {
     "name": "stdout",
     "output_type": "stream",
     "text": [
      "{'name': 'Loid', 'family name': 'Forger', 'year': '1964'}\n"
     ]
    }
   ],
   "source": [
    "print(dict)"
   ]
  },
  {
   "cell_type": "markdown",
   "id": "6bb0e521",
   "metadata": {},
   "source": [
    "9.เปลี่ยนชื่อ (name) และปี (year) ใน Dictionaries เป็น Anya และ 2016"
   ]
  },
  {
   "cell_type": "code",
   "execution_count": 36,
   "id": "76bafbb6-114f-4797-83cb-c9f56be786ad",
   "metadata": {},
   "outputs": [
    {
     "name": "stdout",
     "output_type": "stream",
     "text": [
      "{'name': 'anya', 'family name': 'Forger', 'year': '2016'}\n"
     ]
    }
   ],
   "source": [
    "dict['name']='anya'\n",
    "dict['year']='2016'\n",
    "print(dict)"
   ]
  }
 ],
 "metadata": {
  "kernelspec": {
   "display_name": "Python 3 (ipykernel)",
   "language": "python",
   "name": "python3"
  },
  "language_info": {
   "codemirror_mode": {
    "name": "ipython",
    "version": 3
   },
   "file_extension": ".py",
   "mimetype": "text/x-python",
   "name": "python",
   "nbconvert_exporter": "python",
   "pygments_lexer": "ipython3",
   "version": "3.12.4"
  }
 },
 "nbformat": 4,
 "nbformat_minor": 5
}
