{
 "cells": [
  {
   "cell_type": "markdown",
   "id": "7aee763c-a327-47be-b5ec-fcb5be261d81",
   "metadata": {},
   "source": [
    "# list"
   ]
  },
  {
   "cell_type": "code",
   "execution_count": 2,
   "id": "35be1caf-ab0a-4e62-a26a-11f5905478c6",
   "metadata": {},
   "outputs": [
    {
     "name": "stdout",
     "output_type": "stream",
     "text": [
      "[2, 3, 5, 7]\n"
     ]
    }
   ],
   "source": [
    "odd = [2, 4, 6, 8]\n",
    "#เปลี่ยนค่าในตำแหน่งที่ 1 ถึง 3\n",
    "odd[1:4] = [3, 5, 7]\n",
    "print (odd)"
   ]
  },
  {
   "cell_type": "code",
   "execution_count": 4,
   "id": "ee6632d2-328f-4bb8-941b-9fb09c306ed3",
   "metadata": {},
   "outputs": [
    {
     "name": "stdout",
     "output_type": "stream",
     "text": [
      "[3, 0, 4]\n"
     ]
    }
   ],
   "source": [
    "odd = [0, 4]\n",
    "odd.insert(0, 3)\n",
    "print (odd)\n",
    "#แทรกเลข 3 ลงไปข้างตำแหน่งที่ 0"
   ]
  },
  {
   "cell_type": "code",
   "execution_count": 8,
   "id": "216040eb-2928-40c8-b3ca-72fa3d18465f",
   "metadata": {},
   "outputs": [
    {
     "name": "stdout",
     "output_type": "stream",
     "text": [
      "[3, 0, 4, 7, 9, 11, 13]\n"
     ]
    }
   ],
   "source": [
    "print (odd + [7, 9, 11, 13]) # รวม 2 อันเข้าด้วยกัน"
   ]
  },
  {
   "cell_type": "code",
   "execution_count": 12,
   "id": "f683b5c6-03bc-4122-a67b-22c639140b3e",
   "metadata": {},
   "outputs": [
    {
     "name": "stdout",
     "output_type": "stream",
     "text": [
      "New value available at index 2 :  2001\n",
      "['physics', 'chemistry', 2001, 2000]\n"
     ]
    }
   ],
   "source": [
    "list = ['physics', 'chemistry', 1997, 2000];\n",
    "# ตำแหน่งเริ่มที่ 0 1 2 3\n",
    "# กำหนดค่า list ในตำแหน่งที่เราต้องการ update ใหม่\n",
    "list[2] = 2001\n",
    "print (\"New value available at index 2 : \", list[2])\n",
    "print (list)"
   ]
  },
  {
   "cell_type": "code",
   "execution_count": 21,
   "id": "71ea0860-8218-4a6b-b6a4-c8fddafa74d7",
   "metadata": {},
   "outputs": [
    {
     "data": {
      "text/plain": [
       "['physics', 'chemistry', 2001, 2000, 'view', 'view', 'view']"
      ]
     },
     "execution_count": 21,
     "metadata": {},
     "output_type": "execute_result"
    }
   ],
   "source": [
    "list"
   ]
  },
  {
   "cell_type": "code",
   "execution_count": 25,
   "id": "8fc6d41f-d6be-4d13-802e-f2d2a9902187",
   "metadata": {},
   "outputs": [
    {
     "data": {
      "text/plain": [
       "'view'"
      ]
     },
     "execution_count": 25,
     "metadata": {},
     "output_type": "execute_result"
    }
   ],
   "source": [
    "list.pop(4) #ค้นหาแล้วลบออกจาก list"
   ]
  },
  {
   "cell_type": "code",
   "execution_count": 27,
   "id": "b60ace45-6cb6-43ff-8e5b-b5b1e9e387f2",
   "metadata": {},
   "outputs": [
    {
     "data": {
      "text/plain": [
       "['physics', 'chemistry', 2001, 2000, 'view', 'view']"
      ]
     },
     "execution_count": 27,
     "metadata": {},
     "output_type": "execute_result"
    }
   ],
   "source": [
    "list"
   ]
  },
  {
   "cell_type": "code",
   "execution_count": 31,
   "id": "810b3508-4946-444a-9233-eb23ac4cd2d8",
   "metadata": {},
   "outputs": [],
   "source": [
    "list.remove('view') #ลบได้ทีละ1ตัว"
   ]
  },
  {
   "cell_type": "code",
   "execution_count": 33,
   "id": "5f708104-9600-4eed-9a3a-b9cd4d55ce23",
   "metadata": {},
   "outputs": [
    {
     "data": {
      "text/plain": [
       "['physics', 'chemistry', 2001, 2000, 'view']"
      ]
     },
     "execution_count": 33,
     "metadata": {},
     "output_type": "execute_result"
    }
   ],
   "source": [
    "list"
   ]
  },
  {
   "cell_type": "code",
   "execution_count": 35,
   "id": "975e06ae-9f21-4615-bac9-d6d852d9ed3d",
   "metadata": {},
   "outputs": [],
   "source": [
    "list.remove('view')"
   ]
  },
  {
   "cell_type": "code",
   "execution_count": 37,
   "id": "31d455aa-f881-4335-a2d0-43c2de0efe2c",
   "metadata": {},
   "outputs": [
    {
     "data": {
      "text/plain": [
       "['physics', 'chemistry', 2001, 2000]"
      ]
     },
     "execution_count": 37,
     "metadata": {},
     "output_type": "execute_result"
    }
   ],
   "source": [
    "list"
   ]
  },
  {
   "cell_type": "code",
   "execution_count": 41,
   "id": "4429b2be-1537-4076-bbb8-93fdab688f41",
   "metadata": {},
   "outputs": [
    {
     "data": {
      "text/plain": [
       "['physics', 'chemistry', 2001, 2000, 'hello', 'hello']"
      ]
     },
     "execution_count": 41,
     "metadata": {},
     "output_type": "execute_result"
    }
   ],
   "source": [
    "list.append('hello')\n",
    "list"
   ]
  },
  {
   "cell_type": "code",
   "execution_count": 43,
   "id": "62f10c04-5d88-476d-92e7-2bb0501f9f07",
   "metadata": {},
   "outputs": [],
   "source": [
    "list.remove('hello')\n",
    "list.remove('hello')"
   ]
  },
  {
   "cell_type": "code",
   "execution_count": 45,
   "id": "d80ad741-22d9-41f4-ab1b-da8a5041ff27",
   "metadata": {},
   "outputs": [
    {
     "data": {
      "text/plain": [
       "['physics', 'chemistry', 2001, 2000, 'hi']"
      ]
     },
     "execution_count": 45,
     "metadata": {},
     "output_type": "execute_result"
    }
   ],
   "source": [
    "list.append('hi')\n",
    "list"
   ]
  },
  {
   "cell_type": "code",
   "execution_count": 47,
   "id": "533a88a6-f9fb-4c8c-bbf5-baa8ef4f7537",
   "metadata": {},
   "outputs": [
    {
     "data": {
      "text/plain": [
       "['physics', 'chemistry', 2001, 500, 'hi']"
      ]
     },
     "execution_count": 47,
     "metadata": {},
     "output_type": "execute_result"
    }
   ],
   "source": [
    "list[3]= 500\n",
    "list"
   ]
  },
  {
   "cell_type": "code",
   "execution_count": 49,
   "id": "e3bbfb66-273c-49b3-9e56-eef388608265",
   "metadata": {},
   "outputs": [
    {
     "data": {
      "text/plain": [
       "['physics', 'chemistry', 'hello', 500, 'hi']"
      ]
     },
     "execution_count": 49,
     "metadata": {},
     "output_type": "execute_result"
    }
   ],
   "source": [
    "list[2]='hello'\n",
    "list"
   ]
  },
  {
   "cell_type": "code",
   "execution_count": 53,
   "id": "6696029c-528f-441d-bb69-08365c482ef9",
   "metadata": {},
   "outputs": [],
   "source": [
    "list.extend(['view','wanvi'])"
   ]
  },
  {
   "cell_type": "code",
   "execution_count": 55,
   "id": "e8db5ff7-5b64-4ec6-bd8c-7e8642590731",
   "metadata": {},
   "outputs": [
    {
     "data": {
      "text/plain": [
       "['physics', 'chemistry', 'hello', 500, 'hi', 'view', 'wanvi']"
      ]
     },
     "execution_count": 55,
     "metadata": {},
     "output_type": "execute_result"
    }
   ],
   "source": [
    "list"
   ]
  },
  {
   "cell_type": "code",
   "execution_count": 57,
   "id": "acc28f29-a81a-4541-b34c-0853febe8067",
   "metadata": {},
   "outputs": [
    {
     "data": {
      "text/plain": [
       "['wanvi', 'view', 'hi', 500, 'hello', 'chemistry', 'physics']"
      ]
     },
     "execution_count": 57,
     "metadata": {},
     "output_type": "execute_result"
    }
   ],
   "source": [
    "list.reverse()\n",
    "list"
   ]
  },
  {
   "cell_type": "code",
   "execution_count": 61,
   "id": "187ed9a1-4d22-40d7-867a-f936c03264b3",
   "metadata": {},
   "outputs": [
    {
     "data": {
      "text/plain": [
       "7"
      ]
     },
     "execution_count": 61,
     "metadata": {},
     "output_type": "execute_result"
    }
   ],
   "source": [
    "len(list) #lenght"
   ]
  },
  {
   "cell_type": "code",
   "execution_count": 63,
   "id": "4bec494b-ca7a-49e5-a72d-4da6f96b508c",
   "metadata": {},
   "outputs": [
    {
     "data": {
      "text/plain": [
       "'hi'"
      ]
     },
     "execution_count": 63,
     "metadata": {},
     "output_type": "execute_result"
    }
   ],
   "source": [
    "list[2]"
   ]
  },
  {
   "cell_type": "markdown",
   "id": "6f12698f-ff70-4eb7-86b9-1235a5c9e40e",
   "metadata": {},
   "source": [
    "# tuple"
   ]
  },
  {
   "cell_type": "code",
   "execution_count": 66,
   "id": "b6be665c-530a-4bff-9a81-b94cb6731bec",
   "metadata": {},
   "outputs": [
    {
     "data": {
      "text/plain": [
       "(4, 2, 3, 5)"
      ]
     },
     "execution_count": 66,
     "metadata": {},
     "output_type": "execute_result"
    }
   ],
   "source": [
    "#เพิ่มสมาชิกใน tuple เนื่องจาก tuple เป็น immutable ไม่สามารถเปลี่ยนแปลง tuple ได้โดยตรง\n",
    "#จึงต้องใช้การ merge ด้วย + operator เป็นการสร้าง tuple ใหม่\n",
    "my_tuple = (4, 2, 3)  \n",
    "new_my_tuple = my_tuple + (5,)\n",
    "new_my_tuple"
   ]
  },
  {
   "cell_type": "code",
   "execution_count": 78,
   "id": "ed685b4f-755b-487d-8502-02482f69f438",
   "metadata": {},
   "outputs": [
    {
     "data": {
      "text/plain": [
       "(4, 2, 8, 3)"
      ]
     },
     "execution_count": 78,
     "metadata": {},
     "output_type": "execute_result"
    }
   ],
   "source": [
    "#เพิ่ม element ใหม่ คือ 8 แทรกระหว่าง 2 และ 3 ใน (4,2,3)  --- วิธีที่ 1\n",
    "my_tuple = (4, 2, 3) \n",
    "my_new_tuple = my_tuple[:2]+(8,)+my_tuple[2:]\n",
    "my_new_tuple"
   ]
  },
  {
   "cell_type": "markdown",
   "id": "ecd3d775-75d1-4c1c-ac4f-9f5bb1b8bd8b",
   "metadata": {},
   "source": [
    "# slicing"
   ]
  },
  {
   "cell_type": "code",
   "execution_count": 83,
   "id": "b0998d59-364b-4637-a24d-d3fd22aac786",
   "metadata": {},
   "outputs": [],
   "source": [
    "grades = [\"A\", \"B\", \"C\", \"D\", \"F\"]"
   ]
  },
  {
   "cell_type": "code",
   "execution_count": 85,
   "id": "6d4f93b1-ed0a-4236-9267-36798a6bdfe9",
   "metadata": {},
   "outputs": [
    {
     "name": "stdout",
     "output_type": "stream",
     "text": [
      "F\n"
     ]
    }
   ],
   "source": [
    "print(grades[-1])"
   ]
  },
  {
   "cell_type": "code",
   "execution_count": 87,
   "id": "ddfd7368-495c-410c-b83b-5018e032fdce",
   "metadata": {},
   "outputs": [
    {
     "name": "stdout",
     "output_type": "stream",
     "text": [
      "['A', 'B', 'C', 'D']\n"
     ]
    }
   ],
   "source": [
    "print(grades[:-1])"
   ]
  },
  {
   "cell_type": "code",
   "execution_count": 89,
   "id": "821a84a0-0c56-430a-872e-5408ad489d91",
   "metadata": {},
   "outputs": [
    {
     "name": "stdout",
     "output_type": "stream",
     "text": [
      "[]\n"
     ]
    }
   ],
   "source": [
    "print(grades[:0])"
   ]
  },
  {
   "cell_type": "code",
   "execution_count": 97,
   "id": "d970ac07-56cd-4b28-8c80-e9a0fa40865e",
   "metadata": {},
   "outputs": [
    {
     "name": "stdout",
     "output_type": "stream",
     "text": [
      "['A', 'D']\n"
     ]
    }
   ],
   "source": [
    "print(grades[0:5:3])"
   ]
  },
  {
   "cell_type": "code",
   "execution_count": 99,
   "id": "1f5b6867-5cf2-4c47-9bb5-e117b4f6bd34",
   "metadata": {},
   "outputs": [
    {
     "name": "stdout",
     "output_type": "stream",
     "text": [
      "['A', 'C', 'F']\n"
     ]
    }
   ],
   "source": [
    "print(grades[-5::2])"
   ]
  },
  {
   "cell_type": "code",
   "execution_count": 101,
   "id": "da733056-2ffc-4849-9047-0b46e29fa79d",
   "metadata": {},
   "outputs": [
    {
     "name": "stdout",
     "output_type": "stream",
     "text": [
      "['F', 'D', 'C', 'B', 'A']\n"
     ]
    }
   ],
   "source": [
    "print(grades[::-1])"
   ]
  },
  {
   "cell_type": "markdown",
   "id": "60bf58b6-bf81-4b4f-a0e4-6241259e3e66",
   "metadata": {},
   "source": [
    "# Dict"
   ]
  },
  {
   "cell_type": "code",
   "execution_count": 104,
   "id": "97fc8f39-f7b7-4184-8ed4-27547d04409f",
   "metadata": {},
   "outputs": [
    {
     "name": "stdout",
     "output_type": "stream",
     "text": [
      "{1: 'orange', 2: 'cherry', 3: 'grape', 4: 'peach', 5: 'melon'}\n"
     ]
    }
   ],
   "source": [
    "my_fruit = {1:'orange',2:'cherry',3:'grape',4:'peach',5:'melon'}\n",
    "# variable = {key : value}\n",
    "print(my_fruit)"
   ]
  },
  {
   "cell_type": "code",
   "execution_count": 106,
   "id": "fa6bdfaf-a559-47bf-b66b-321bd3447efa",
   "metadata": {},
   "outputs": [
    {
     "name": "stdout",
     "output_type": "stream",
     "text": [
      "{'name': 'Somying', 'phone_no': '0815879999', 1: 'orange', 2: 'cherry', 3: 'grape', 4: 'peach', 5: 'melon'}\n"
     ]
    }
   ],
   "source": [
    "my_fruit_person = {'name': 'Somying', 'phone_no': '0815879999', 1:'orange',2:'cherry',3:'grape',4:'peach',5:'melon' }\n",
    "print(my_fruit_person)"
   ]
  },
  {
   "cell_type": "code",
   "execution_count": 108,
   "id": "edd8eeeb-ab1d-4436-9b3b-51c86e8c7ef8",
   "metadata": {},
   "outputs": [
    {
     "name": "stdout",
     "output_type": "stream",
     "text": [
      "1\n",
      "2\n",
      "3\n",
      "4\n",
      "5\n"
     ]
    }
   ],
   "source": [
    "for i in my_fruit: #print key\n",
    "    print(i)"
   ]
  },
  {
   "cell_type": "code",
   "execution_count": 110,
   "id": "f800d50b-3d6f-4386-b128-91766910464d",
   "metadata": {},
   "outputs": [
    {
     "name": "stdout",
     "output_type": "stream",
     "text": [
      "orange\n",
      "cherry\n",
      "grape\n",
      "peach\n",
      "melon\n"
     ]
    }
   ],
   "source": [
    "for i in my_fruit: #print value\n",
    "    print(my_fruit[i])"
   ]
  },
  {
   "cell_type": "code",
   "execution_count": 112,
   "id": "a152469b-2438-42d8-aaee-01638452f9c6",
   "metadata": {},
   "outputs": [
    {
     "name": "stdout",
     "output_type": "stream",
     "text": [
      "my name is  Somying ,I like  orange\n"
     ]
    }
   ],
   "source": [
    "my_fruit_person = {'name': 'Somying', 'phone_no': '0815879999', 1:'orange',2:'cherry',3:'grape',4:'peach',5:'melon' }\n",
    "print(\"my name is \", my_fruit_person['name'], \",I like \", my_fruit_person[1])\n",
    "# การเข้าถึงข้อมูลใน dictionary"
   ]
  },
  {
   "cell_type": "code",
   "execution_count": 114,
   "id": "5932e529-3831-4ef6-ac1a-11e8064d345a",
   "metadata": {},
   "outputs": [
    {
     "name": "stdout",
     "output_type": "stream",
     "text": [
      "before update :  {1: 'orange', 2: 'cherry', 3: 'grape', 4: 'peach', 5: 'melon'}\n",
      "after update   :  {1: 'orange', 2: 'cherry', 3: 'grape', 4: 'longan', 5: 'melon'}\n"
     ]
    }
   ],
   "source": [
    "my_fruit = {1:'orange',2:'cherry',3:'grape',4:'peach',5:'melon'}\n",
    "print(\"before update : \" , my_fruit)\n",
    "my_fruit[4] = 'longan'                      # update here\n",
    "print(\"after update   : \", my_fruit)"
   ]
  },
  {
   "cell_type": "code",
   "execution_count": 116,
   "id": "973e1efa-969a-41a4-b52e-12c037a5f99b",
   "metadata": {},
   "outputs": [
    {
     "name": "stdout",
     "output_type": "stream",
     "text": [
      "before update :  {1: 'orange', 2: 'cherry', 3: 'grape', 4: 'peach', 5: 'melon'}\n",
      "after update   :  {1: 'orange', 2: 'cherry', 3: 'grape', 4: 'peach', 5: 'melon', 6: 'lychee'}\n"
     ]
    }
   ],
   "source": [
    "my_fruit = {1:'orange',2:'cherry',3:'grape',4:'peach',5:'melon'}\n",
    "print(\"before update : \" , my_fruit)\n",
    "my_fruit[6] = 'lychee'                      # Add here\n",
    "print(\"after update   : \", my_fruit)"
   ]
  },
  {
   "cell_type": "code",
   "execution_count": 118,
   "id": "a28d1277-bc81-4de5-8544-20d5bfe1e2fc",
   "metadata": {},
   "outputs": [
    {
     "data": {
      "text/plain": [
       "{1: 'orange', 3: 'grape', 4: 'peach', 5: 'melon', 6: 'lychee'}"
      ]
     },
     "execution_count": 118,
     "metadata": {},
     "output_type": "execute_result"
    }
   ],
   "source": [
    "#delete\n",
    "del my_fruit[2]\n",
    "my_fruit"
   ]
  },
  {
   "cell_type": "code",
   "execution_count": 122,
   "id": "5407a503-caac-4aec-969f-5a682e2cdaed",
   "metadata": {},
   "outputs": [
    {
     "data": {
      "text/plain": [
       "{}"
      ]
     },
     "execution_count": 122,
     "metadata": {},
     "output_type": "execute_result"
    }
   ],
   "source": [
    "my_fruit2 = {1:'orange',2:'cherry',3:'grape',4:'peach',5:'melon'}\n",
    "my_fruit2.clear() # remove all entries in dict\n",
    "my_fruit2"
   ]
  },
  {
   "cell_type": "code",
   "execution_count": 140,
   "id": "618ec8b8-def2-47d9-a433-991310c6aaa1",
   "metadata": {},
   "outputs": [
    {
     "name": "stdout",
     "output_type": "stream",
     "text": [
      "{1: 'orange', 2: 'cherry', 4: 'peach', 5: 'melon'}\n"
     ]
    }
   ],
   "source": [
    "#ใช้คำสั่ง pop เพื่อ remove ข้อมูลใน dictionary\n",
    "my_fruit = {1:'orange',2:'cherry',3:'grape',4:'peach',5:'melon'}\n",
    "my_fruit.pop(3)\n",
    "print(my_fruit)"
   ]
  },
  {
   "cell_type": "code",
   "execution_count": 126,
   "id": "b10612c4-3756-4062-91a3-bcdd5a602aca",
   "metadata": {},
   "outputs": [
    {
     "data": {
      "text/plain": [
       "{1: 'orange', 2: 'cherry', 4: 'peach', 5: 'melon', 'lychee': 6}"
      ]
     },
     "execution_count": 126,
     "metadata": {},
     "output_type": "execute_result"
    }
   ],
   "source": [
    "my_fruit[\"lychee\"]=6\n",
    "my_fruit #adding elements"
   ]
  },
  {
   "cell_type": "code",
   "execution_count": 128,
   "id": "18fd4c9e-6170-4c1d-9aed-d84cd9f6f25d",
   "metadata": {},
   "outputs": [
    {
     "data": {
      "text/plain": [
       "{1: 'orange', 2: 'cherry', 4: 'peach', 5: 'melon'}"
      ]
     },
     "execution_count": 128,
     "metadata": {},
     "output_type": "execute_result"
    }
   ],
   "source": [
    "del my_fruit[\"lychee\"]\n",
    "my_fruit # delete"
   ]
  },
  {
   "cell_type": "code",
   "execution_count": 130,
   "id": "aa5fadaa-e665-43e8-841a-b421b3fccf43",
   "metadata": {},
   "outputs": [
    {
     "data": {
      "text/plain": [
       "dict_items([(1, 'orange'), (2, 'cherry'), (4, 'peach'), (5, 'melon')])"
      ]
     },
     "execution_count": 130,
     "metadata": {},
     "output_type": "execute_result"
    }
   ],
   "source": [
    "my_fruit.items()"
   ]
  },
  {
   "cell_type": "code",
   "execution_count": 132,
   "id": "015e4f87-af5e-4c4f-b174-cd6aa1cdebe2",
   "metadata": {},
   "outputs": [
    {
     "data": {
      "text/plain": [
       "'cherry'"
      ]
     },
     "execution_count": 132,
     "metadata": {},
     "output_type": "execute_result"
    }
   ],
   "source": [
    "my_fruit.get(2)"
   ]
  },
  {
   "cell_type": "code",
   "execution_count": 138,
   "id": "5d1675aa-96a9-452d-8928-c2615268de19",
   "metadata": {},
   "outputs": [
    {
     "name": "stdout",
     "output_type": "stream",
     "text": [
      "1 orange\n",
      "2 cherry\n",
      "3 grape\n",
      "4 peach\n",
      "5 melon\n",
      "name somchai\n"
     ]
    }
   ],
   "source": [
    "my_fruit = {1:'orange',2:'cherry',3:'grape',4:'peach',5:'melon', \"name\":\"somchai\"}\n",
    "for i,j in my_fruit.items():\n",
    "    print(i,j) #วน loop อ่านค่า keys และ values โดยใช้ method items()"
   ]
  },
  {
   "cell_type": "code",
   "execution_count": 142,
   "id": "f63cef70-026a-47c5-a672-dbd7969077cd",
   "metadata": {},
   "outputs": [
    {
     "name": "stdout",
     "output_type": "stream",
     "text": [
      "Key: 1 2 3 4 5 "
     ]
    }
   ],
   "source": [
    "my_fruit = {1:'orange',2:'cherry',3:'grape',4:'peach',5:'melon'}\n",
    "# iterate through keys\n",
    "print('Key:', end = ' ')\n",
    "for k in my_fruit.keys():\n",
    "    print(k, end = ' ') #วน loop อ่านค่า keys ทั้งหมดภายใน Dictionary โดยใช้ method keys()"
   ]
  },
  {
   "cell_type": "code",
   "execution_count": 144,
   "id": "81f9a475-b80c-4d63-8d5c-97ddbdc93b59",
   "metadata": {},
   "outputs": [
    {
     "data": {
      "text/plain": [
       "dict_keys([1, 2, 3, 4, 5])"
      ]
     },
     "execution_count": 144,
     "metadata": {},
     "output_type": "execute_result"
    }
   ],
   "source": [
    "my_fruit.keys()"
   ]
  },
  {
   "cell_type": "code",
   "execution_count": 146,
   "id": "d013a85c-e09e-411f-875b-9732a0f534af",
   "metadata": {},
   "outputs": [
    {
     "name": "stdout",
     "output_type": "stream",
     "text": [
      "Value: orange cherry grape peach melon "
     ]
    }
   ],
   "source": [
    "my_fruit = {1:'orange',2:'cherry',3:'grape',4:'peach',5:'melon'}\n",
    "# iterate through values\n",
    "print('Value:', end = ' ')\n",
    "for v in my_fruit.values():\n",
    "    print(v, end = ' ') #วน loop อ่านค่า values ทั้งหมดภายใน Dictionary โดยใช้ method values()"
   ]
  },
  {
   "cell_type": "code",
   "execution_count": 148,
   "id": "26e83c30-f11e-4ed0-a950-cb2f7c9f1efd",
   "metadata": {},
   "outputs": [
    {
     "name": "stdout",
     "output_type": "stream",
     "text": [
      "dict['Name']:  Zara\n"
     ]
    }
   ],
   "source": [
    "#keys สามารถเป็น Datatype ได้เพียง 3 ประเภทคือ Strings, Numbers และ Tuples หากไม่อยู่ในทั้ง 3 ประเภทนี้จะเกิด error\n",
    "#dict = {['Name']: 'Zara', 'Age': 7} #['Name'] is not Strings, numbers and tuples\n",
    "dict = {'Name': 'Zara', 'Age': 7}\n",
    "print(\"dict['Name']: \", dict['Name'])"
   ]
  },
  {
   "cell_type": "code",
   "execution_count": 150,
   "id": "37e4e636-554a-4bcb-9edd-87d7f97848b9",
   "metadata": {},
   "outputs": [
    {
     "name": "stdout",
     "output_type": "stream",
     "text": [
      "dict['Name']:  Manni\n"
     ]
    }
   ],
   "source": [
    "dict = {'Name': 'Zara', 'Age': 7, 'Name': 'Manni'}  #duplicate keys\n",
    "print (\"dict['Name']: \", dict['Name']) #ไม่อนุญาตให้มี key ซ้ำกัน แต่ถ้ามี key ซ้ำกันระหว่างการ assignment ผลลัพธ์จะเป็นการ assignment ล่าสุด"
   ]
  },
  {
   "cell_type": "code",
   "execution_count": 152,
   "id": "c92b0b8b-557c-468f-8027-923316ec8b4f",
   "metadata": {},
   "outputs": [
    {
     "name": "stdout",
     "output_type": "stream",
     "text": [
      "Length is 4\n"
     ]
    }
   ],
   "source": [
    "fruit = {1 : 'Apple' , 2 : 'Orange' , 3 : 'Grape' , 4 : 'Banana'}\n",
    "print('Length is' , len(fruit))"
   ]
  },
  {
   "cell_type": "code",
   "execution_count": 154,
   "id": "d29d05ed-669c-48f4-b85d-5877215c8c96",
   "metadata": {},
   "outputs": [
    {
     "name": "stdout",
     "output_type": "stream",
     "text": [
      "Equivalent String : {'Name': 'Zara', 'Age': 7}\n",
      "<class 'str'>\n"
     ]
    }
   ],
   "source": [
    "dict = {'Name': 'Zara', 'Age': 7};\n",
    "print (\"Equivalent String : %s\" % str (dict))\n",
    "print(type(str(dict))) \n",
    "#sorted (dict[,reverse]) เป็นฟังก์ชั่นที่จะ return ค่ากลับเป็น value \n",
    "# ใน Dictionary ที่ถูกเรียงลำดับจากน้อยไปมาก โดยถ้า set ค่า reverse เป็น True จะทำให้เรียงแบบย้อนกลับจากมากไปน้อย"
   ]
  },
  {
   "cell_type": "code",
   "execution_count": 156,
   "id": "5965666b-4b20-46d4-8e34-932c2d4ac179",
   "metadata": {},
   "outputs": [
    {
     "name": "stdout",
     "output_type": "stream",
     "text": [
      "{'Name': 'Zara', 'Age': 7, 'Class': 'First'}\n",
      "{'Name': 'Zara', 'Age': 7, 'Class': 'First'}\n"
     ]
    }
   ],
   "source": [
    "dict = {'Name': 'Zara', 'Age': 7, 'Class': 'First'}\n",
    "print(dict)\n",
    "\n",
    "new_dict = dict.copy()\n",
    "print(new_dict)"
   ]
  },
  {
   "cell_type": "code",
   "execution_count": null,
   "id": "73591972-d113-4026-97a1-4e3281a71be4",
   "metadata": {},
   "outputs": [],
   "source": []
  }
 ],
 "metadata": {
  "kernelspec": {
   "display_name": "Python 3 (ipykernel)",
   "language": "python",
   "name": "python3"
  },
  "language_info": {
   "codemirror_mode": {
    "name": "ipython",
    "version": 3
   },
   "file_extension": ".py",
   "mimetype": "text/x-python",
   "name": "python",
   "nbconvert_exporter": "python",
   "pygments_lexer": "ipython3",
   "version": "3.12.4"
  }
 },
 "nbformat": 4,
 "nbformat_minor": 5
}
